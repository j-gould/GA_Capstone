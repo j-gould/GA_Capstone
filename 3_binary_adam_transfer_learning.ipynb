{
 "cells": [
  {
   "cell_type": "code",
   "execution_count": 12,
   "metadata": {},
   "outputs": [],
   "source": [
    "# 1. import libraries\n",
    "#\n",
    "# 2. define data directory and create train and test datasets\n",
    "#\n",
    "# 3. define model"
   ]
  },
  {
   "cell_type": "code",
   "execution_count": 1,
   "metadata": {},
   "outputs": [
    {
     "ename": "ImportError",
     "evalue": "Something is wrong with the numpy installation. While importing we detected an older version of numpy in ['/anaconda3/lib/python2.7/site-packages/numpy']. One method of fixing this is to repeatedly uninstall numpy until none is found, then reinstall this version.",
     "output_type": "error",
     "traceback": [
      "\u001b[0;31m---------------------------------------------------------------------------\u001b[0m",
      "\u001b[0;31mImportError\u001b[0m                               Traceback (most recent call last)",
      "\u001b[0;32m<ipython-input-1-4c26e2a17dbc>\u001b[0m in \u001b[0;36m<module>\u001b[0;34m()\u001b[0m\n\u001b[0;32m----> 1\u001b[0;31m \u001b[0;32mimport\u001b[0m \u001b[0mnumpy\u001b[0m \u001b[0;32mas\u001b[0m \u001b[0mnp\u001b[0m\u001b[0;34m\u001b[0m\u001b[0m\n\u001b[0m\u001b[1;32m      2\u001b[0m \u001b[0;32mimport\u001b[0m \u001b[0mpandas\u001b[0m \u001b[0;32mas\u001b[0m \u001b[0mpd\u001b[0m\u001b[0;34m\u001b[0m\u001b[0m\n\u001b[1;32m      3\u001b[0m \u001b[0;32mimport\u001b[0m \u001b[0mmatplotlib\u001b[0m\u001b[0;34m.\u001b[0m\u001b[0mpyplot\u001b[0m \u001b[0;32mas\u001b[0m \u001b[0mplt\u001b[0m\u001b[0;34m\u001b[0m\u001b[0m\n\u001b[1;32m      4\u001b[0m \u001b[0;32mimport\u001b[0m \u001b[0mseaborn\u001b[0m \u001b[0;32mas\u001b[0m \u001b[0msns\u001b[0m\u001b[0;34m\u001b[0m\u001b[0m\n\u001b[1;32m      5\u001b[0m \u001b[0msns\u001b[0m\u001b[0;34m.\u001b[0m\u001b[0mset_style\u001b[0m\u001b[0;34m(\u001b[0m\u001b[0;34m'whitegrid'\u001b[0m\u001b[0;34m)\u001b[0m\u001b[0;34m\u001b[0m\u001b[0m\n",
      "\u001b[0;32m/anaconda3/lib/python2.7/site-packages/numpy/__init__.py\u001b[0m in \u001b[0;36m<module>\u001b[0;34m()\u001b[0m\n\u001b[1;32m    140\u001b[0m     \u001b[0;32mfrom\u001b[0m \u001b[0;34m.\u001b[0m \u001b[0;32mimport\u001b[0m \u001b[0m_distributor_init\u001b[0m\u001b[0;34m\u001b[0m\u001b[0m\n\u001b[1;32m    141\u001b[0m \u001b[0;34m\u001b[0m\u001b[0m\n\u001b[0;32m--> 142\u001b[0;31m     \u001b[0;32mfrom\u001b[0m \u001b[0;34m.\u001b[0m \u001b[0;32mimport\u001b[0m \u001b[0mcore\u001b[0m\u001b[0;34m\u001b[0m\u001b[0m\n\u001b[0m\u001b[1;32m    143\u001b[0m     \u001b[0;32mfrom\u001b[0m \u001b[0;34m.\u001b[0m\u001b[0mcore\u001b[0m \u001b[0;32mimport\u001b[0m \u001b[0;34m*\u001b[0m\u001b[0;34m\u001b[0m\u001b[0m\n\u001b[1;32m    144\u001b[0m     \u001b[0;32mfrom\u001b[0m \u001b[0;34m.\u001b[0m \u001b[0;32mimport\u001b[0m \u001b[0mcompat\u001b[0m\u001b[0;34m\u001b[0m\u001b[0m\n",
      "\u001b[0;32m/anaconda3/lib/python2.7/site-packages/numpy/core/__init__.py\u001b[0m in \u001b[0;36m<module>\u001b[0;34m()\u001b[0m\n\u001b[1;32m     89\u001b[0m         \u001b[0;34m\"numpy in {}. One method of fixing this is to repeatedly uninstall \"\u001b[0m\u001b[0;34m\u001b[0m\u001b[0m\n\u001b[1;32m     90\u001b[0m         \"numpy until none is found, then reinstall this version.\")\n\u001b[0;32m---> 91\u001b[0;31m     \u001b[0;32mraise\u001b[0m \u001b[0mImportError\u001b[0m\u001b[0;34m(\u001b[0m\u001b[0mmsg\u001b[0m\u001b[0;34m.\u001b[0m\u001b[0mformat\u001b[0m\u001b[0;34m(\u001b[0m\u001b[0mpath\u001b[0m\u001b[0;34m)\u001b[0m\u001b[0;34m)\u001b[0m\u001b[0;34m\u001b[0m\u001b[0m\n\u001b[0m\u001b[1;32m     92\u001b[0m \u001b[0;34m\u001b[0m\u001b[0m\n\u001b[1;32m     93\u001b[0m \u001b[0;32mfrom\u001b[0m \u001b[0;34m.\u001b[0m \u001b[0;32mimport\u001b[0m \u001b[0mnumerictypes\u001b[0m \u001b[0;32mas\u001b[0m \u001b[0mnt\u001b[0m\u001b[0;34m\u001b[0m\u001b[0m\n",
      "\u001b[0;31mImportError\u001b[0m: Something is wrong with the numpy installation. While importing we detected an older version of numpy in ['/anaconda3/lib/python2.7/site-packages/numpy']. One method of fixing this is to repeatedly uninstall numpy until none is found, then reinstall this version."
     ]
    }
   ],
   "source": [
    "import numpy as np\n",
    "import pandas as pd\n",
    "import matplotlib.pyplot as plt\n",
    "import seaborn as sns\n",
    "sns.set_style('whitegrid')\n",
    "\n",
    "from keras.models import Sequential\n",
    "from keras.layers import Convolution2D\n",
    "from keras.layers import MaxPooling2D\n",
    "from keras.layers import Flatten\n",
    "from keras.layers import Dense\n",
    "from keras.layers import Dropout\n",
    "from keras.layers import BatchNormalization\n",
    "from keras.constraints import max_norm\n",
    "from keras.regularizers import l2\n",
    "from keras.preprocessing.image import ImageDataGenerator\n",
    "from sklearn import metrics\n",
    "\n",
    "from keras.applications import VGG16\n",
    "from keras.applications import VGG19"
   ]
  },
  {
   "cell_type": "code",
   "execution_count": null,
   "metadata": {},
   "outputs": [],
   "source": []
  },
  {
   "cell_type": "code",
   "execution_count": 2,
   "metadata": {},
   "outputs": [],
   "source": [
    "# define datasets and directory structure\n",
    "\n",
    "dataset =  './dataset2/binary/'\n",
    "\n",
    "# 2 folders - 'damage', 'no_damage'\n",
    "# 1,150 images in each"
   ]
  },
  {
   "cell_type": "code",
   "execution_count": null,
   "metadata": {},
   "outputs": [],
   "source": [
    "# create training and validation folders\n",
    "# https://github.com/jfilter/split-folders\n",
    "# !pip install split-folders\n",
    "\n",
    "#import split_folders\n",
    "#input_folder = dataset\n",
    "#output = dataset + 'split/'\n",
    "#split_folders.ratio(input_folder, output=output, seed=99, ratio=(.8, .2))"
   ]
  },
  {
   "cell_type": "code",
   "execution_count": 3,
   "metadata": {},
   "outputs": [
    {
     "name": "stdout",
     "output_type": "stream",
     "text": [
      "damage\tno_damage  split\n",
      "train  val\n"
     ]
    }
   ],
   "source": [
    "!ls dataset2/binary\n",
    "!ls dataset2/binary/split"
   ]
  },
  {
   "cell_type": "code",
   "execution_count": null,
   "metadata": {},
   "outputs": [],
   "source": [
    "\n"
   ]
  },
  {
   "cell_type": "code",
   "execution_count": null,
   "metadata": {},
   "outputs": [],
   "source": []
  },
  {
   "cell_type": "code",
   "execution_count": 4,
   "metadata": {},
   "outputs": [
    {
     "name": "stdout",
     "output_type": "stream",
     "text": [
      "_________________________________________________________________\n",
      "Layer (type)                 Output Shape              Param #   \n",
      "=================================================================\n",
      "vgg16 (Model)                (None, 4, 4, 512)         14714688  \n",
      "_________________________________________________________________\n",
      "flatten_1 (Flatten)          (None, 8192)              0         \n",
      "_________________________________________________________________\n",
      "dense_1 (Dense)              (None, 256)               2097408   \n",
      "_________________________________________________________________\n",
      "dropout_1 (Dropout)          (None, 256)               0         \n",
      "_________________________________________________________________\n",
      "dense_2 (Dense)              (None, 1)                 257       \n",
      "=================================================================\n",
      "Total params: 16,812,353\n",
      "Trainable params: 2,097,665\n",
      "Non-trainable params: 14,714,688\n",
      "_________________________________________________________________\n",
      "Found 1840 images belonging to 2 classes.\n",
      "Found 460 images belonging to 2 classes.\n",
      "Epoch 1/50\n",
      "1840/1840 [==============================] - 334s 182ms/step - loss: 0.4966 - acc: 0.7696 - val_loss: 0.3990 - val_acc: 0.8348\n",
      "Epoch 2/50\n",
      "1840/1840 [==============================] - 330s 179ms/step - loss: 0.4422 - acc: 0.7995 - val_loss: 0.3710 - val_acc: 0.8478\n",
      "Epoch 3/50\n",
      "1840/1840 [==============================] - 330s 180ms/step - loss: 0.4229 - acc: 0.8074 - val_loss: 0.3915 - val_acc: 0.8413\n",
      "Epoch 4/50\n",
      "1840/1840 [==============================] - 332s 180ms/step - loss: 0.4121 - acc: 0.8102 - val_loss: 0.4052 - val_acc: 0.8304\n",
      "Epoch 5/50\n",
      "1840/1840 [==============================] - 336s 182ms/step - loss: 0.4029 - acc: 0.8183 - val_loss: 0.4095 - val_acc: 0.8239\n",
      "Epoch 6/50\n",
      "1840/1840 [==============================] - 334s 182ms/step - loss: 0.3921 - acc: 0.8188 - val_loss: 0.4068 - val_acc: 0.8326\n",
      "Epoch 7/50\n",
      "1840/1840 [==============================] - 335s 182ms/step - loss: 0.3831 - acc: 0.8243 - val_loss: 0.4369 - val_acc: 0.8130\n",
      "Epoch 8/50\n",
      "1840/1840 [==============================] - 335s 182ms/step - loss: 0.3758 - acc: 0.8278 - val_loss: 0.4368 - val_acc: 0.8239\n",
      "Epoch 9/50\n",
      "1840/1840 [==============================] - 337s 183ms/step - loss: 0.3670 - acc: 0.8318 - val_loss: 0.4161 - val_acc: 0.8391\n",
      "Epoch 10/50\n",
      "1840/1840 [==============================] - 337s 183ms/step - loss: 0.3620 - acc: 0.8338 - val_loss: 0.4361 - val_acc: 0.8435\n",
      "Epoch 11/50\n",
      "1840/1840 [==============================] - 337s 183ms/step - loss: 0.3567 - acc: 0.8385 - val_loss: 0.4243 - val_acc: 0.8457\n",
      "Epoch 12/50\n",
      "1840/1840 [==============================] - 337s 183ms/step - loss: 0.3545 - acc: 0.8386 - val_loss: 0.4505 - val_acc: 0.8196\n",
      "Epoch 13/50\n",
      "1840/1840 [==============================] - 337s 183ms/step - loss: 0.3464 - acc: 0.8407 - val_loss: 0.4559 - val_acc: 0.8413\n",
      "Epoch 14/50\n",
      "1840/1840 [==============================] - 335s 182ms/step - loss: 0.3403 - acc: 0.8442 - val_loss: 0.4786 - val_acc: 0.8457\n",
      "Epoch 15/50\n",
      "1840/1840 [==============================] - 338s 184ms/step - loss: 0.3368 - acc: 0.8465 - val_loss: 0.4531 - val_acc: 0.8478\n",
      "Epoch 16/50\n",
      "1840/1840 [==============================] - 337s 183ms/step - loss: 0.3335 - acc: 0.8453 - val_loss: 0.4652 - val_acc: 0.8435\n",
      "Epoch 17/50\n",
      "1840/1840 [==============================] - 336s 182ms/step - loss: 0.3329 - acc: 0.8457 - val_loss: 0.4877 - val_acc: 0.8391\n",
      "Epoch 18/50\n",
      "1840/1840 [==============================] - 336s 183ms/step - loss: 0.3286 - acc: 0.8472 - val_loss: 0.4763 - val_acc: 0.8348\n",
      "Epoch 19/50\n",
      "1840/1840 [==============================] - 334s 181ms/step - loss: 0.3230 - acc: 0.8512 - val_loss: 0.4675 - val_acc: 0.8587\n",
      "Epoch 20/50\n",
      "1840/1840 [==============================] - 335s 182ms/step - loss: 0.3224 - acc: 0.8511 - val_loss: 0.4907 - val_acc: 0.8326\n",
      "Epoch 21/50\n",
      "1840/1840 [==============================] - 336s 183ms/step - loss: 0.3202 - acc: 0.8520 - val_loss: 0.6014 - val_acc: 0.8130\n",
      "Epoch 22/50\n",
      "1840/1840 [==============================] - 334s 181ms/step - loss: 0.3220 - acc: 0.8523 - val_loss: 0.5254 - val_acc: 0.8413\n",
      "Epoch 23/50\n",
      "1840/1840 [==============================] - 333s 181ms/step - loss: 0.3129 - acc: 0.8545 - val_loss: 0.4755 - val_acc: 0.8348\n",
      "Epoch 24/50\n",
      "1840/1840 [==============================] - 335s 182ms/step - loss: 0.3167 - acc: 0.8537 - val_loss: 0.4859 - val_acc: 0.8413\n",
      "Epoch 25/50\n",
      "1840/1840 [==============================] - 338s 183ms/step - loss: 0.3099 - acc: 0.8563 - val_loss: 0.4789 - val_acc: 0.8478\n",
      "Epoch 26/50\n",
      "1840/1840 [==============================] - 337s 183ms/step - loss: 0.3073 - acc: 0.8569 - val_loss: 0.5119 - val_acc: 0.8435\n",
      "Epoch 27/50\n",
      "1840/1840 [==============================] - 336s 182ms/step - loss: 0.3038 - acc: 0.8583 - val_loss: 0.4858 - val_acc: 0.8326\n",
      "Epoch 28/50\n",
      "1840/1840 [==============================] - 335s 182ms/step - loss: 0.3099 - acc: 0.8550 - val_loss: 0.5280 - val_acc: 0.8326\n",
      "Epoch 29/50\n",
      "1840/1840 [==============================] - 335s 182ms/step - loss: 0.3073 - acc: 0.8556 - val_loss: 0.5521 - val_acc: 0.8413\n",
      "Epoch 30/50\n",
      "1840/1840 [==============================] - 334s 182ms/step - loss: 0.3019 - acc: 0.8597 - val_loss: 0.4795 - val_acc: 0.8522\n",
      "Epoch 31/50\n",
      "1840/1840 [==============================] - 332s 180ms/step - loss: 0.3003 - acc: 0.8587 - val_loss: 0.5057 - val_acc: 0.8478\n",
      "Epoch 32/50\n",
      "1840/1840 [==============================] - 331s 180ms/step - loss: 0.2985 - acc: 0.8604 - val_loss: 0.5309 - val_acc: 0.8370\n",
      "Epoch 33/50\n",
      "1840/1840 [==============================] - 332s 181ms/step - loss: 0.2985 - acc: 0.8603 - val_loss: 0.4853 - val_acc: 0.8457\n",
      "Epoch 34/50\n",
      "1840/1840 [==============================] - 333s 181ms/step - loss: 0.2949 - acc: 0.8628 - val_loss: 0.5070 - val_acc: 0.8478\n",
      "Epoch 35/50\n",
      "1840/1840 [==============================] - 335s 182ms/step - loss: 0.2973 - acc: 0.8611 - val_loss: 0.5533 - val_acc: 0.8435\n",
      "Epoch 36/50\n",
      "1840/1840 [==============================] - 333s 181ms/step - loss: 0.2924 - acc: 0.8649 - val_loss: 0.5665 - val_acc: 0.8304\n",
      "Epoch 37/50\n",
      "1840/1840 [==============================] - 333s 181ms/step - loss: 0.2883 - acc: 0.8645 - val_loss: 0.5742 - val_acc: 0.8261\n",
      "Epoch 38/50\n",
      "1840/1840 [==============================] - 334s 182ms/step - loss: 0.2918 - acc: 0.8642 - val_loss: 0.5236 - val_acc: 0.8435\n",
      "Epoch 39/50\n",
      "1840/1840 [==============================] - 334s 182ms/step - loss: 0.2873 - acc: 0.8647 - val_loss: 0.6261 - val_acc: 0.8174\n",
      "Epoch 40/50\n",
      "1840/1840 [==============================] - 334s 182ms/step - loss: 0.2894 - acc: 0.8628 - val_loss: 0.5615 - val_acc: 0.8391\n",
      "Epoch 41/50\n",
      "1840/1840 [==============================] - 334s 182ms/step - loss: 0.2895 - acc: 0.8640 - val_loss: 0.5381 - val_acc: 0.8304\n",
      "Epoch 42/50\n",
      "1840/1840 [==============================] - 335s 182ms/step - loss: 0.2866 - acc: 0.8669 - val_loss: 0.5542 - val_acc: 0.8304\n",
      "Epoch 43/50\n",
      "1840/1840 [==============================] - 334s 181ms/step - loss: 0.2856 - acc: 0.8662 - val_loss: 0.5714 - val_acc: 0.8283\n",
      "Epoch 44/50\n",
      "1840/1840 [==============================] - 334s 182ms/step - loss: 0.2862 - acc: 0.8635 - val_loss: 0.5719 - val_acc: 0.8217\n",
      "Epoch 45/50\n",
      "1840/1840 [==============================] - 335s 182ms/step - loss: 0.2856 - acc: 0.8660 - val_loss: 0.6018 - val_acc: 0.8304\n",
      "Epoch 46/50\n",
      "1840/1840 [==============================] - 335s 182ms/step - loss: 0.2828 - acc: 0.8660 - val_loss: 0.5680 - val_acc: 0.8348\n",
      "Epoch 47/50\n",
      "1840/1840 [==============================] - 334s 182ms/step - loss: 0.2801 - acc: 0.8691 - val_loss: 0.5534 - val_acc: 0.8283\n",
      "Epoch 48/50\n",
      "1840/1840 [==============================] - 336s 183ms/step - loss: 0.2809 - acc: 0.8678 - val_loss: 0.5923 - val_acc: 0.8326\n",
      "Epoch 49/50\n",
      "1840/1840 [==============================] - 335s 182ms/step - loss: 0.2814 - acc: 0.8674 - val_loss: 0.5990 - val_acc: 0.8370\n",
      "Epoch 50/50\n",
      "1840/1840 [==============================] - 334s 181ms/step - loss: 0.2815 - acc: 0.8679 - val_loss: 0.5302 - val_acc: 0.8391\n"
     ]
    },
    {
     "data": {
      "text/plain": [
       "<keras.callbacks.History at 0x7f93e1a7d278>"
      ]
     },
     "execution_count": 4,
     "metadata": {},
     "output_type": "execute_result"
    }
   ],
   "source": [
    "vgg = VGG16(weights = 'imagenet', include_top = False, input_shape = (128,128,3), )\n",
    "\n",
    "for layers in vgg.layers: layers.trainable = False\n",
    "    \n",
    "model = Sequential()\n",
    "model.add(vgg)\n",
    "model.add(Flatten())\n",
    "#model.add(Dropout(0.5))\n",
    "model.add(Dense(units = 256, activation = 'relu'))\n",
    "model.add(Dropout(0.5))\n",
    "model.add(Dense(1, activation = 'sigmoid'))\n",
    "model.summary()  \n",
    "\n",
    "model.compile(optimizer = 'adam', loss = 'binary_crossentropy', metrics = ['accuracy'])\n",
    "\n",
    "# data augmentation of training dataset    \n",
    "tr_datagen = ImageDataGenerator(rescale = 1./255, \n",
    "                                    rotation_range = 40,\n",
    "                                    width_shift_range = 0.2, \n",
    "                                    height_shift_range = 0.2,\n",
    "                                    shear_range = 0.2, \n",
    "                                    zoom_range = 0.2, \n",
    "                                    horizontal_flip = True, \n",
    "                                    fill_mode = 'nearest')\n",
    "\n",
    "# create training dataset\n",
    "tr_set = tr_datagen.flow_from_directory(dataset + 'split/train', target_size = (128,128),\n",
    "                                            batch_size = 20, class_mode = 'binary')\n",
    "\n",
    "# create test datset\n",
    "te_datagen = ImageDataGenerator(rescale = 1./255)\n",
    "te_set = te_datagen.flow_from_directory(dataset + 'split/val', target_size = (128,128),\n",
    "                                            batch_size = 20, class_mode = 'binary', shuffle='False')\n",
    "\n",
    "# train the model\n",
    "model.fit_generator(tr_set, steps_per_epoch = 1840, epochs = 50,\n",
    "                        validation_data = te_set, validation_steps = 460)\n",
    "\n"
   ]
  },
  {
   "cell_type": "code",
   "execution_count": 5,
   "metadata": {},
   "outputs": [],
   "source": [
    "model.save('binary_adam_aws_1.h5')"
   ]
  },
  {
   "cell_type": "code",
   "execution_count": 10,
   "metadata": {},
   "outputs": [],
   "source": [
    "def plot_results(model = model):\n",
    "\n",
    "    sns.set(style=\"whitegrid\", palette=\"bright\", color_codes=True)\n",
    "    epochs = range(1,51)\n",
    "    plt.plot(epochs, model.history.history['acc'], 'b', label='Training')\n",
    "    plt.plot(epochs, model.history.history['val_acc'], 'r', label='Validation')\n",
    "    plt.title('Training and Validation Accuracy')\n",
    "    plt.ylabel('Accuracy')\n",
    "    plt.xlabel('Epoch')\n",
    "    plt.xlim(0.9,50)\n",
    "    plt.ylim(0.5,1)\n",
    "    plt.legend()\n",
    "\n",
    "    plt.figure()\n",
    "    plt.plot(epochs, model.history.history['loss'], 'b', label='Training')\n",
    "    plt.plot(epochs, model.history.history['val_loss'], 'r', label='Validation')\n",
    "    plt.title('Training and Validation Loss')\n",
    "    plt.ylabel('Loss')\n",
    "    plt.xlabel('Epoch')\n",
    "    plt.xlim(0.9,50)\n",
    "    #plt.ylim(0,1)\n",
    "    plt.legend()\n",
    "    plt.show()"
   ]
  },
  {
   "cell_type": "code",
   "execution_count": 11,
   "metadata": {},
   "outputs": [
    {
     "data": {
      "image/png": "[encoded data removed]",
      "text/plain": [
       "<Figure size 432x288 with 1 Axes>"
      ]
     },
     "metadata": {},
     "output_type": "display_data"
    },
    {
     "data": {
      "image/png": "[encoded data removed]",
      "text/plain": [
       "<Figure size 432x288 with 1 Axes>"
      ]
     },
     "metadata": {},
     "output_type": "display_data"
    }
   ],
   "source": [
    "plot_results()"
   ]
  }
 ],
 "metadata": {
  "kernelspec": {
   "display_name": "Python 3",
   "language": "python",
   "name": "python3"
  },
  "language_info": {
   "codemirror_mode": {
    "name": "ipython",
    "version": 3
   },
   "file_extension": ".py",
   "mimetype": "text/x-python",
   "name": "python",
   "nbconvert_exporter": "python",
   "pygments_lexer": "ipython3",
   "version": "3.6.0"
  }
 },
 "nbformat": 4,
 "nbformat_minor": 2
}
